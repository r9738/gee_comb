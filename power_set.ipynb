{
 "cells": [
  {
   "cell_type": "code",
   "execution_count": 1,
   "id": "89c47732",
   "metadata": {},
   "outputs": [],
   "source": [
    "def make_list(data):\n",
    "    data.sort()\n",
    "    result = [[]]\n",
    "    \n",
    "    for i in data:\n",
    "        next_input = []\n",
    "        for ii in data:\n",
    "            if ii > i:\n",
    "                next_input.append(ii)\n",
    "        \n",
    "        if next_input == []:\n",
    "            result.append([i])\n",
    "        else:\n",
    "            t = make_list(next_input)\n",
    "            for iii in t:\n",
    "                result.append([i]+iii)\n",
    "\n",
    "\n",
    "            \n",
    "    result.sort()\n",
    "    return result"
   ]
  },
  {
   "cell_type": "code",
   "execution_count": 2,
   "id": "3e97e25b",
   "metadata": {},
   "outputs": [
    {
     "data": {
      "text/plain": [
       "[[], [1], [1, 2], [1, 2, 3], [1, 3], [2], [2, 3], [3]]"
      ]
     },
     "execution_count": 2,
     "metadata": {},
     "output_type": "execute_result"
    }
   ],
   "source": [
    "data = [1,2,3]\n",
    "make_list(data)"
   ]
  },
  {
   "cell_type": "code",
   "execution_count": 3,
   "id": "fdf43b47",
   "metadata": {},
   "outputs": [
    {
     "data": {
      "text/plain": [
       "[[],\n",
       " [11],\n",
       " [11, 277],\n",
       " [11, 277, 314],\n",
       " [11, 277, 314, 1568],\n",
       " [11, 277, 1568],\n",
       " [11, 314],\n",
       " [11, 314, 1568],\n",
       " [11, 1568],\n",
       " [277],\n",
       " [277, 314],\n",
       " [277, 314, 1568],\n",
       " [277, 1568],\n",
       " [314],\n",
       " [314, 1568],\n",
       " [1568]]"
      ]
     },
     "execution_count": 3,
     "metadata": {},
     "output_type": "execute_result"
    }
   ],
   "source": [
    "data = [1568,277,314,11]\n",
    "make_list(data)"
   ]
  },
  {
   "cell_type": "code",
   "execution_count": null,
   "id": "737bd246",
   "metadata": {},
   "outputs": [],
   "source": []
  },
  {
   "cell_type": "code",
   "execution_count": null,
   "id": "45304228",
   "metadata": {},
   "outputs": [],
   "source": []
  }
 ],
 "metadata": {
  "kernelspec": {
   "display_name": "Python 3",
   "language": "python",
   "name": "python3"
  },
  "language_info": {
   "codemirror_mode": {
    "name": "ipython",
    "version": 3
   },
   "file_extension": ".py",
   "mimetype": "text/x-python",
   "name": "python",
   "nbconvert_exporter": "python",
   "pygments_lexer": "ipython3",
   "version": "3.9.5"
  }
 },
 "nbformat": 4,
 "nbformat_minor": 5
}
