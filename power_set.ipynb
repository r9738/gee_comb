{
 "cells": [
  {
   "cell_type": "code",
   "execution_count": 1,
   "id": "0c5a2aba",
   "metadata": {},
   "outputs": [],
   "source": [
    "data = [16,4262,65,3,5,931]"
   ]
  },
  {
   "cell_type": "code",
   "execution_count": 2,
   "id": "f2228831",
   "metadata": {},
   "outputs": [],
   "source": [
    "def make_list(data):\n",
    "    data.sort()\n",
    "    result = [[]]\n",
    "    \n",
    "    for i in data:\n",
    "        next_input = []\n",
    "        for ii in data:\n",
    "            if ii > i:\n",
    "                next_input.append(ii)\n",
    "        \n",
    "        if next_input == []:\n",
    "            result.append([i])\n",
    "        else:\n",
    "            t = make_list(next_input)\n",
    "            for iii in t:\n",
    "                result.append([i]+iii)\n",
    "\n",
    "\n",
    "            \n",
    "    result.sort()\n",
    "    return result"
   ]
  },
  {
   "cell_type": "code",
   "execution_count": 3,
   "id": "e1b226c8",
   "metadata": {},
   "outputs": [
    {
     "data": {
      "text/plain": [
       "[[],\n",
       " [3],\n",
       " [3, 5],\n",
       " [3, 5, 16],\n",
       " [3, 5, 16, 65],\n",
       " [3, 5, 16, 65, 931],\n",
       " [3, 5, 16, 65, 931, 4262],\n",
       " [3, 5, 16, 65, 4262],\n",
       " [3, 5, 16, 931],\n",
       " [3, 5, 16, 931, 4262],\n",
       " [3, 5, 16, 4262],\n",
       " [3, 5, 65],\n",
       " [3, 5, 65, 931],\n",
       " [3, 5, 65, 931, 4262],\n",
       " [3, 5, 65, 4262],\n",
       " [3, 5, 931],\n",
       " [3, 5, 931, 4262],\n",
       " [3, 5, 4262],\n",
       " [3, 16],\n",
       " [3, 16, 65],\n",
       " [3, 16, 65, 931],\n",
       " [3, 16, 65, 931, 4262],\n",
       " [3, 16, 65, 4262],\n",
       " [3, 16, 931],\n",
       " [3, 16, 931, 4262],\n",
       " [3, 16, 4262],\n",
       " [3, 65],\n",
       " [3, 65, 931],\n",
       " [3, 65, 931, 4262],\n",
       " [3, 65, 4262],\n",
       " [3, 931],\n",
       " [3, 931, 4262],\n",
       " [3, 4262],\n",
       " [5],\n",
       " [5, 16],\n",
       " [5, 16, 65],\n",
       " [5, 16, 65, 931],\n",
       " [5, 16, 65, 931, 4262],\n",
       " [5, 16, 65, 4262],\n",
       " [5, 16, 931],\n",
       " [5, 16, 931, 4262],\n",
       " [5, 16, 4262],\n",
       " [5, 65],\n",
       " [5, 65, 931],\n",
       " [5, 65, 931, 4262],\n",
       " [5, 65, 4262],\n",
       " [5, 931],\n",
       " [5, 931, 4262],\n",
       " [5, 4262],\n",
       " [16],\n",
       " [16, 65],\n",
       " [16, 65, 931],\n",
       " [16, 65, 931, 4262],\n",
       " [16, 65, 4262],\n",
       " [16, 931],\n",
       " [16, 931, 4262],\n",
       " [16, 4262],\n",
       " [65],\n",
       " [65, 931],\n",
       " [65, 931, 4262],\n",
       " [65, 4262],\n",
       " [931],\n",
       " [931, 4262],\n",
       " [4262]]"
      ]
     },
     "execution_count": 3,
     "metadata": {},
     "output_type": "execute_result"
    }
   ],
   "source": [
    "make_list(data)"
   ]
  },
  {
   "cell_type": "code",
   "execution_count": null,
   "id": "cb8dd2bb",
   "metadata": {},
   "outputs": [],
   "source": []
  },
  {
   "cell_type": "code",
   "execution_count": null,
   "id": "867e43b4",
   "metadata": {},
   "outputs": [],
   "source": []
  }
 ],
 "metadata": {
  "kernelspec": {
   "display_name": "Python 3",
   "language": "python",
   "name": "python3"
  },
  "language_info": {
   "codemirror_mode": {
    "name": "ipython",
    "version": 3
   },
   "file_extension": ".py",
   "mimetype": "text/x-python",
   "name": "python",
   "nbconvert_exporter": "python",
   "pygments_lexer": "ipython3",
   "version": "3.9.5"
  }
 },
 "nbformat": 4,
 "nbformat_minor": 5
}
