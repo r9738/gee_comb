{
 "cells": [
  {
   "cell_type": "code",
   "execution_count": null,
   "id": "2143cd87",
   "metadata": {},
   "outputs": [],
   "source": [
    "data = [1,2,3,5]"
   ]
  },
  {
   "cell_type": "code",
   "execution_count": null,
   "id": "b483c3df",
   "metadata": {},
   "outputs": [],
   "source": [
    "def make_list(data):\n",
    "    result = [[]]\n",
    "    \n",
    "    for i in data:\n",
    "        next_input = []\n",
    "        for ii in data:\n",
    "            if ii > i:\n",
    "                next_input.append(ii)\n",
    "        \n",
    "        if next_input == []:\n",
    "            result.append([i])\n",
    "        else:\n",
    "            t = make_list(next_input)\n",
    "            for iii in t:\n",
    "                result.append([i]+iii)\n",
    "\n",
    "\n",
    "            \n",
    "\n",
    "    return result"
   ]
  },
  {
   "cell_type": "code",
   "execution_count": null,
   "id": "e1b81cb7",
   "metadata": {},
   "outputs": [],
   "source": [
    "make_list(data)"
   ]
  },
  {
   "cell_type": "code",
   "execution_count": null,
   "id": "594c063b",
   "metadata": {},
   "outputs": [],
   "source": []
  },
  {
   "cell_type": "code",
   "execution_count": null,
   "id": "77a15fa1",
   "metadata": {},
   "outputs": [],
   "source": []
  }
 ],
 "metadata": {
  "kernelspec": {
   "display_name": "Python 3",
   "language": "python",
   "name": "python3"
  },
  "language_info": {
   "codemirror_mode": {
    "name": "ipython",
    "version": 3
   },
   "file_extension": ".py",
   "mimetype": "text/x-python",
   "name": "python",
   "nbconvert_exporter": "python",
   "pygments_lexer": "ipython3",
   "version": "3.9.5"
  }
 },
 "nbformat": 4,
 "nbformat_minor": 5
}
